{
 "cells": [
  {
   "cell_type": "code",
   "execution_count": null,
   "id": "6d903890",
   "metadata": {},
   "outputs": [
    {
     "data": {
      "text/html": [
       "<div>\n",
       "<style scoped>\n",
       "    .dataframe tbody tr th:only-of-type {\n",
       "        vertical-align: middle;\n",
       "    }\n",
       "\n",
       "    .dataframe tbody tr th {\n",
       "        vertical-align: top;\n",
       "    }\n",
       "\n",
       "    .dataframe thead th {\n",
       "        text-align: right;\n",
       "    }\n",
       "</style>\n",
       "<table border=\"1\" class=\"dataframe\">\n",
       "  <thead>\n",
       "    <tr style=\"text-align: right;\">\n",
       "      <th></th>\n",
       "      <th>Modelo</th>\n",
       "      <th>RMSE</th>\n",
       "      <th>ΜΑΕ</th>\n",
       "      <th>R2</th>\n",
       "      <th>MAE</th>\n",
       "    </tr>\n",
       "  </thead>\n",
       "  <tbody>\n",
       "    <tr>\n",
       "      <th>0</th>\n",
       "      <td>Regresión Lineal</td>\n",
       "      <td>2.23</td>\n",
       "      <td>1.89</td>\n",
       "      <td>-0.03</td>\n",
       "      <td>NaN</td>\n",
       "    </tr>\n",
       "    <tr>\n",
       "      <th>1</th>\n",
       "      <td>Arbol de Decisión</td>\n",
       "      <td>0.93</td>\n",
       "      <td>NaN</td>\n",
       "      <td>0.82</td>\n",
       "      <td>0.7</td>\n",
       "    </tr>\n",
       "  </tbody>\n",
       "</table>\n",
       "</div>"
      ],
      "text/plain": [
       "              Modelo  RMSE   ΜΑΕ    R2  MAE\n",
       "0   Regresión Lineal  2.23  1.89 -0.03  NaN\n",
       "1  Arbol de Decisión  0.93   NaN  0.82  0.7"
      ]
     },
     "metadata": {},
     "output_type": "display_data"
    }
   ],
   "source": [
    "import pandas as pd\n",
    "import matplotlib.pyplot as plt\n",
    "\n",
    "# Métricas obtenidas del modelo de regresión lineal\n",
    "metricas_rl = {\n",
    "    \"Modelo\": \"Regresión Lineal\", \n",
    "    \"RMSE\": 2.23, \n",
    "    \"ΜΑΕ\": 1.89, \n",
    "    \"R2\": -0.03\n",
    "    }\n",
    "metricas_arbol = {\n",
    "    \"Modelo\": \"Arbol de Decisión\", \n",
    "    \"RMSE\": 0.93, \n",
    "    \"MAE\": 0.70, \n",
    "    \"R2\": 0.82\n",
    "    }\n",
    "# Comparación\n",
    "df_comparacion = pd.DataFrame([metricas_rl, metricas_arbol])\n",
    "display(df_comparacion) "
   ]
  }
 ],
 "metadata": {
  "kernelspec": {
   "display_name": "venv",
   "language": "python",
   "name": "python3"
  },
  "language_info": {
   "codemirror_mode": {
    "name": "ipython",
    "version": 3
   },
   "file_extension": ".py",
   "mimetype": "text/x-python",
   "name": "python",
   "nbconvert_exporter": "python",
   "pygments_lexer": "ipython3",
   "version": "3.13.7"
  }
 },
 "nbformat": 4,
 "nbformat_minor": 5
}
