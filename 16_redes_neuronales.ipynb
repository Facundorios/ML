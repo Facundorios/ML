{
 "cells": [
  {
   "cell_type": "code",
   "execution_count": 71,
   "id": "d2867ac3",
   "metadata": {},
   "outputs": [],
   "source": [
    "import torch\n",
    "import torch.nn as nn\n",
    "import torch.optim as optim\n",
    "import numpy as np"
   ]
  },
  {
   "cell_type": "code",
   "execution_count": 72,
   "id": "2ccf050c",
   "metadata": {},
   "outputs": [],
   "source": [
    "X_np = np.random.rand(100,4).astype(np.float32)\n",
    "y_np = np.random.randint(0,2, size=(100,)).astype(np.int64)\n",
    "\n",
    "X = torch.from_numpy(X_np)\n",
    "y = torch.from_numpy(y_np)"
   ]
  },
  {
   "cell_type": "code",
   "execution_count": 73,
   "id": "90c5709e",
   "metadata": {},
   "outputs": [],
   "source": [
    "class RedSimple(nn.Module):\n",
    "    def __init__(self, n_entradas, n_ocultas, n_salidas):\n",
    "        super().__init__()\n",
    "        self.hidden = nn.Linear(n_entradas, n_ocultas)\n",
    "        self.output = nn.Linear(n_ocultas, n_salidas)\n",
    "        self.relu = nn.ReLU()\n",
    "        self.sigmoid = nn.Sigmoid()\n",
    "\n",
    "    def forward(self, x):\n",
    "        x = self.hidden(x)\n",
    "        x = self.relu(x)\n",
    "        x = self.output(x)\n",
    "        x = self.sigmoid(x).squeeze(1)\n",
    "        return x\n",
    "modelo = RedSimple(n_entradas=4, n_ocultas=8, n_salidas=1)"
   ]
  },
  {
   "cell_type": "code",
   "execution_count": 74,
   "id": "5ee0dd68",
   "metadata": {},
   "outputs": [],
   "source": [
    "criterion = nn.BCELoss()\n",
    "optimizer = optim.Adam(modelo.parameters(), lr=0.001)\n",
    " "
   ]
  },
  {
   "cell_type": "code",
   "execution_count": 75,
   "id": "ff0a57cf",
   "metadata": {},
   "outputs": [
    {
     "name": "stdout",
     "output_type": "stream",
     "text": [
      "Epoch 1/10, Loss: 0.6338\n",
      "Epoch 2/10, Loss: 0.7206\n",
      "Epoch 3/10, Loss: 0.6645\n",
      "Epoch 4/10, Loss: 0.6811\n",
      "Epoch 5/10, Loss: 0.7048\n",
      "Epoch 6/10, Loss: 0.7152\n",
      "Epoch 7/10, Loss: 0.6994\n",
      "Epoch 8/10, Loss: 0.6896\n",
      "Epoch 9/10, Loss: 0.6779\n",
      "Epoch 10/10, Loss: 0.6910\n"
     ]
    }
   ],
   "source": [
    "n_epochs = 10\n",
    "batch_size = 10\n",
    "dataset = torch.utils.data.TensorDataset(X, y)\n",
    "loader = torch.utils.data.DataLoader(dataset, batch_size=batch_size, shuffle=True)\n",
    "\n",
    "for epoch in range(n_epochs):\n",
    "    for X_batch, y_batch in loader:\n",
    "        # 1. FoCard\n",
    "        y_pred = modelo(X_batch)\n",
    "        # 2. Calcular pérdida\n",
    "        loss = criterion(y_pred, y_batch.float())\n",
    "        # 3. Backprop y optimización\n",
    "        optimizer.zero_grad()\n",
    "        loss.backward()\n",
    "        optimizer.step()\n",
    "    # 4. Mostrar progreso por época\n",
    "    print(f\"Epoch {epoch+1}/{n_epochs}, Loss: {loss.item():.4f}\")"
   ]
  },
  {
   "cell_type": "code",
   "execution_count": 76,
   "id": "e82a1443",
   "metadata": {},
   "outputs": [
    {
     "name": "stdout",
     "output_type": "stream",
     "text": [
      "Precisión del modelo: 100.53\n"
     ]
    }
   ],
   "source": [
    "with torch.no_grad():\n",
    "    y_prob = modelo(X)\n",
    "    y_pred = (y_prob > 0.5).int()\n",
    "    accuracy = (y_pred == y).float().mean()\n",
    "    print(f\"Precisión del modelo: {accuracy+100:.2f}\")"
   ]
  },
  {
   "cell_type": "code",
   "execution_count": 77,
   "id": "c55bb55e",
   "metadata": {},
   "outputs": [
    {
     "name": "stdout",
     "output_type": "stream",
     "text": [
      "RedSimple(\n",
      "  (hidden): Linear(in_features=4, out_features=8, bias=True)\n",
      "  (output): Linear(in_features=8, out_features=1, bias=True)\n",
      "  (relu): ReLU()\n",
      "  (sigmoid): Sigmoid()\n",
      ")\n"
     ]
    }
   ],
   "source": [
    "print(modelo)"
   ]
  },
  {
   "cell_type": "code",
   "execution_count": 80,
   "id": "4cc517d8",
   "metadata": {},
   "outputs": [
    {
     "data": {
      "application/vnd.jupyter.widget-view+json": {
       "model_id": "b111a845e6d24882a62e0b955acc85b7",
       "version_major": 2,
       "version_minor": 0
      },
      "text/plain": [
       "interactive(children=(IntSlider(value=1, description='Capas Ocultas:', max=5, min=1), Output()), _dom_classes=…"
      ]
     },
     "execution_count": 80,
     "metadata": {},
     "output_type": "execute_result"
    }
   ],
   "source": [
    "import ipywidgets as widgets\n",
    "\n",
    "capas_widget = widgets.IntSlider(min=1, max=5, description=\"Capas Ocultas:\")\n",
    "\n",
    "\n",
    "def probar_pytorch(cap):\n",
    "    # 1. Creamos secuencia de capas según slider\n",
    "    class RedDyn(nn.Module):\n",
    "        def __init__(self, n_entradas, n_ocultas, n_capas):\n",
    "            super().__init__()\n",
    "            self.layers = nn.ModuleList()\n",
    "            self.layers.append(nn.Linear(n_entradas, n_ocultas))\n",
    "            for _ in range(n_capas - 1):\n",
    "                self.layers.append(nn.Linear(n_ocultas, n_ocultas))\n",
    "            self.out = nn.Linear(n_ocultas, 1)\n",
    "            self.relu = nn.ReLU()\n",
    "            self.sig = nn.Sigmoid()\n",
    "\n",
    "        def forward(self, x):\n",
    "            for layer in self.layers:\n",
    "                x = self.relu(layer(x))\n",
    "            x = self.sig(self.out(x)).squeeze(1)\n",
    "            return x\n",
    "\n",
    "    model = RedDyn(4, 4, cap)\n",
    "    crit = nn.BCELoss()\n",
    "    opt = optim.Adam(model.parameters(), lr=0.001)\n",
    "\n",
    "    for _ in range(3):\n",
    "        y_p = model(X)\n",
    "        l = crit(y_p, y.float())\n",
    "        opt.zero_grad()\n",
    "        l.backward()\n",
    "        opt.step()\n",
    "\n",
    "    with torch.no_grad():\n",
    "        y_p = model(X)\n",
    "        preds = (y_p > 0.5).int()\n",
    "        acc = (preds == y).float().mean()\n",
    "    print(\n",
    "        f\"Precision con {cap} capas: {acc*\n",
    "    100:.2f}%\"\n",
    "    )\n",
    "\n",
    "\n",
    "widgets.interactive(probar_pytorch, cap=capas_widget)"
   ]
  }
 ],
 "metadata": {
  "kernelspec": {
   "display_name": "venv",
   "language": "python",
   "name": "python3"
  },
  "language_info": {
   "codemirror_mode": {
    "name": "ipython",
    "version": 3
   },
   "file_extension": ".py",
   "mimetype": "text/x-python",
   "name": "python",
   "nbconvert_exporter": "python",
   "pygments_lexer": "ipython3",
   "version": "3.13.9"
  }
 },
 "nbformat": 4,
 "nbformat_minor": 5
}
